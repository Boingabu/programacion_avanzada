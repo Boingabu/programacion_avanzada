{
  "nbformat": 4,
  "nbformat_minor": 0,
  "metadata": {
    "colab": {
      "provenance": []
    },
    "kernelspec": {
      "name": "python3",
      "display_name": "Python 3"
    },
    "language_info": {
      "name": "python"
    }
  },
  "cells": [
    {
      "cell_type": "markdown",
      "source": [],
      "metadata": {
        "id": "1sLZBJmxtSBP"
      }
    },
    {
      "cell_type": "code",
      "source": [
        "!apt-get install git -y"
      ],
      "metadata": {
        "colab": {
          "base_uri": "https://localhost:8080/"
        },
        "id": "mthe1-PgtQNz",
        "outputId": "b9757311-de7d-4c4a-b22d-8977d2325cc8"
      },
      "execution_count": null,
      "outputs": [
        {
          "output_type": "stream",
          "name": "stdout",
          "text": [
            "Reading package lists... Done\n",
            "Building dependency tree... Done\n",
            "Reading state information... Done\n",
            "git is already the newest version (1:2.34.1-1ubuntu1.12).\n",
            "0 upgraded, 0 newly installed, 0 to remove and 30 not upgraded.\n"
          ]
        }
      ]
    },
    {
      "cell_type": "code",
      "source": [
        "!git config --global user.email \"tomastuberquia32@gmail.com\"\n",
        "!git config --global user.name \"Boingabu\""
      ],
      "metadata": {
        "id": "ZEwNvNDHvq9I"
      },
      "execution_count": null,
      "outputs": []
    },
    {
      "cell_type": "code",
      "source": [
        "!git clone https://github.com/Boingabu/programacion_avanzada.git"
      ],
      "metadata": {
        "colab": {
          "base_uri": "https://localhost:8080/"
        },
        "id": "aWcB1bAavyQU",
        "outputId": "7c546315-c843-4fcc-b561-d0462c78870e"
      },
      "execution_count": null,
      "outputs": [
        {
          "output_type": "stream",
          "name": "stdout",
          "text": [
            "Cloning into 'programacion_avanzada'...\n",
            "warning: You appear to have cloned an empty repository.\n"
          ]
        }
      ]
    },
    {
      "cell_type": "code",
      "source": [
        "!ls"
      ],
      "metadata": {
        "colab": {
          "base_uri": "https://localhost:8080/"
        },
        "id": "7balpbfOWJw0",
        "outputId": "0998edd2-a745-4072-8914-87cbb9eb52eb"
      },
      "execution_count": null,
      "outputs": [
        {
          "output_type": "stream",
          "name": "stdout",
          "text": [
            "programacion_avanzada  sample_data\n"
          ]
        }
      ]
    },
    {
      "cell_type": "code",
      "source": [
        "!cp /content/Taller_optimizacion/content/programacion_avanzada/Taller_optimizacion.ipynb/content/algoritmos-optimizacion/"
      ],
      "metadata": {
        "colab": {
          "base_uri": "https://localhost:8080/"
        },
        "id": "39u-xDs5wB7N",
        "outputId": "fac0592d-1baf-4ab6-b8bd-bc124f055edd"
      },
      "execution_count": null,
      "outputs": [
        {
          "output_type": "stream",
          "name": "stdout",
          "text": [
            "cp: missing destination file operand after '/content/Taller_optimizacion/content/programacion_avanzada/Taller_optimizacion.ipynb/content/algoritmos-optimizacion/'\n",
            "Try 'cp --help' for more information.\n"
          ]
        }
      ]
    },
    {
      "cell_type": "code",
      "source": [
        "%cd /content/programacion_avanzada\n",
        "!git add programacion_avanzada.iy\n",
        "!git commit -m \"Subiendo archivo desde Colab\"\n",
        "!git push origin main"
      ],
      "metadata": {
        "colab": {
          "base_uri": "https://localhost:8080/"
        },
        "id": "1c-zVdQ-wbtc",
        "outputId": "f4074bf1-7cd8-4396-f0a3-38ad86ebec21"
      },
      "execution_count": null,
      "outputs": [
        {
          "output_type": "stream",
          "name": "stdout",
          "text": [
            "/content/programacion_avanzada\n",
            "fatal: pathspec 'programacion_avanzada.iy' did not match any files\n",
            "On branch main\n",
            "\n",
            "Initial commit\n",
            "\n",
            "nothing to commit (create/copy files and use \"git add\" to track)\n",
            "error: src refspec main does not match any\n",
            "\u001b[31merror: failed to push some refs to 'https://github.com/Boingabu/programacion_avanzada.git'\n",
            "\u001b[m"
          ]
        }
      ]
    },
    {
      "cell_type": "markdown",
      "source": [
        "problema #1"
      ],
      "metadata": {
        "id": "u46Dx9X4sD3a"
      }
    },
    {
      "cell_type": "code",
      "execution_count": null,
      "metadata": {
        "colab": {
          "base_uri": "https://localhost:8080/",
          "height": 994
        },
        "id": "7IjBFP1usCEW",
        "outputId": "f8f84dfd-e9bf-45d9-e278-6183e2f61d0c"
      },
      "outputs": [
        {
          "output_type": "stream",
          "name": "stdout",
          "text": [
            "Caso de Prueba 1\n",
            "Objetos seleccionados: ['Objeto 1', 'Objeto 2']\n",
            "Valor total: 7\n",
            "\n",
            "Caso de Prueba 2\n",
            "Objetos seleccionados: ['Objeto 2', 'Objeto 3']\n",
            "Valor total: 220\n",
            "\n",
            "Caso de Prueba 3\n",
            "Objetos seleccionados: ['Objeto 1', 'Objeto 3', 'Objeto 4']\n",
            "Valor total: 5500\n",
            "\n",
            "Caso de Prueba 4\n",
            "Objetos seleccionados: ['Objeto 1', 'Objeto 3', 'Objeto 4', 'Objeto 5']\n",
            "Valor total: 26\n",
            "\n",
            "Caso de Prueba 5\n",
            "Objetos seleccionados: ['Objeto 1', 'Objeto 3']\n",
            "Valor total: 40\n",
            "\n"
          ]
        },
        {
          "output_type": "display_data",
          "data": {
            "text/plain": [
              "<Figure size 1000x600 with 1 Axes>"
            ],
            "image/png": "[encoded data removed]"
          },
          "metadata": {}
        }
      ],
      "source": [
        "def mochila(capacidad, pesos, valores, n):\n",
        "    # Creamos una tabla para almacenar los valores máximos\n",
        "    K = [[0 for _ in range(capacidad + 1)] for _ in range(n + 1)]\n",
        "\n",
        "    # Construimos la tabla K[][] de abajo hacia arriba\n",
        "    for i in range(n + 1):\n",
        "        for w in range(capacidad + 1):\n",
        "            if i == 0 or w == 0:\n",
        "                K[i][w] = 0\n",
        "            elif pesos[i-1] <= w:\n",
        "                K[i][w] = max(valores[i-1] + K[i-1][w-pesos[i-1]], K[i-1][w])\n",
        "            else:\n",
        "                K[i][w] = K[i-1][w]\n",
        "\n",
        "    # Reconstruimos la solución para saber qué objetos se seleccionaron\n",
        "    res = K[n][capacidad]\n",
        "    w = capacidad\n",
        "    objetos_seleccionados = []\n",
        "\n",
        "    for i in range(n, 0, -1):\n",
        "        if res <= 0:\n",
        "            break\n",
        "        if res == K[i-1][w]:\n",
        "            continue\n",
        "        else:\n",
        "            objetos_seleccionados.append(i)\n",
        "            res -= valores[i-1]\n",
        "            w -= pesos[i-1]\n",
        "\n",
        "    return K[n][capacidad], sorted(objetos_seleccionados)\n",
        "\n",
        "# Casos de prueba\n",
        "casos = [\n",
        "    {\"pesos\": [2, 3, 4, 5], \"valores\": [3, 4, 5, 6], \"capacidad\": 5},\n",
        "    {\"pesos\": [10, 20, 30], \"valores\": [60, 100, 120], \"capacidad\": 50},\n",
        "    {\"pesos\": [1, 4, 3, 1], \"valores\": [1500, 3000, 2000, 2000], \"capacidad\": 5},\n",
        "    {\"pesos\": [2, 3, 4, 5, 9], \"valores\": [3, 4, 5, 8, 10], \"capacidad\": 20},\n",
        "    {\"pesos\": [1, 2, 3, 4], \"valores\": [10, 20, 30, 40], \"capacidad\": 4}\n",
        "]\n",
        "\n",
        "for i, caso in enumerate(casos, 1):\n",
        "    valor, objetos = mochila(caso[\"capacidad\"], caso[\"pesos\"], caso[\"valores\"], len(caso[\"pesos\"]))\n",
        "    print(f\"Caso de Prueba {i}\")\n",
        "    print(f\"Objetos seleccionados: {[f'Objeto {o}' for o in objetos]}\")\n",
        "    print(f\"Valor total: {valor}\\n\")\n",
        "\n",
        "import matplotlib.pyplot as plt\n",
        "import numpy as np\n",
        "\n",
        "def mochila_grafico(pesos, valores, capacidad):\n",
        "    n = len(pesos)\n",
        "    K = [[0 for _ in range(capacidad + 1)] for _ in range(n + 1)]\n",
        "\n",
        "    # Llenar la tabla de programación dinámica\n",
        "    for i in range(n + 1):\n",
        "        for w in range(capacidad + 1):\n",
        "            if i == 0 or w == 0:\n",
        "                K[i][w] = 0\n",
        "            elif pesos[i-1] <= w:\n",
        "                K[i][w] = max(valores[i-1] + K[i-1][w-pesos[i-1]], K[i-1][w])\n",
        "            else:\n",
        "                K[i][w] = K[i-1][w]\n",
        "\n",
        "    # Reconstruir la solución\n",
        "    res = K[n][capacidad]\n",
        "    w = capacidad\n",
        "    seleccionados = []\n",
        "    for i in range(n, 0, -1):\n",
        "        if res <= 0:\n",
        "            break\n",
        "        if res != K[i-1][w]:\n",
        "            seleccionados.append(i-1)\n",
        "            res -= valores[i-1]\n",
        "            w -= pesos[i-1]\n",
        "\n",
        "    # Visualización\n",
        "    fig, ax = plt.subplots(figsize=(10, 6))\n",
        "    objetos = [f'Obj {i+1}\\n(p={pesos[i]}, v={valores[i]})' for i in range(n)]\n",
        "    colores = ['green' if i in seleccionados else 'gray' for i in range(n)]\n",
        "\n",
        "    ax.bar(objetos, valores, color=colores)\n",
        "    ax.set_xlabel('Objetos')\n",
        "    ax.set_ylabel('Valor')\n",
        "    ax.set_title(f'Problema de la Mochila (Capacidad: {capacidad})\\nValor total: {K[n][capacidad]}')\n",
        "    plt.xticks(rotation=45)\n",
        "    plt.show()\n",
        "\n",
        "# Ejemplo de uso\n",
        "pesos = [2, 3, 4, 5]\n",
        "valores = [3, 4, 5, 6]\n",
        "capacidad = 5\n",
        "mochila_grafico(pesos, valores, capacidad)"
      ]
    },
    {
      "cell_type": "code",
      "source": [
        "import heapq\n",
        "from collections import defaultdict\n",
        "\n",
        "def dijkstra_con_rutas(grafo, inicio, fin):\n",
        "    distancias = {nodo: float('inf') for nodo in grafo}\n",
        "    distancias[inicio] = 0\n",
        "\n",
        "    arcos = {nodo: float('inf') for nodo in grafo}\n",
        "    arcos[inicio] = 0\n",
        "\n",
        "    rutas = defaultdict(list)\n",
        "    rutas[inicio] = [[inicio]]\n",
        "\n",
        "    cola = [(0, 0, inicio)]\n",
        "\n",
        "    while cola:\n",
        "        dist_actual, arcos_actual, nodo_actual = heapq.heappop(cola)\n",
        "\n",
        "        if nodo_actual == fin:\n",
        "            continue\n",
        "\n",
        "        for vecino, peso in grafo[nodo_actual].items():\n",
        "            distancia = dist_actual + peso\n",
        "            num_arcos = arcos_actual + 1\n",
        "\n",
        "            if distancia < distancias[vecino]:\n",
        "                distancias[vecino] = distancia\n",
        "                arcos[vecino] = num_arcos\n",
        "                rutas[vecino] = [ruta + [vecino] for ruta in rutas[nodo_actual]]\n",
        "                heapq.heappush(cola, (distancia, num_arcos, vecino))\n",
        "\n",
        "            elif distancia == distancias[vecino] and num_arcos < arcos[vecino]:\n",
        "                arcos[vecino] = num_arcos\n",
        "                rutas[vecino] = [ruta + [vecino] for ruta in rutas[nodo_actual]]\n",
        "                heapq.heappush(cola, (distancia, num_arcos, vecino))\n",
        "\n",
        "            elif distancia == distancias[vecino] and num_arcos == arcos[vecino]:\n",
        "                rutas[vecino].extend([ruta + [vecino] for ruta in rutas[nodo_actual]])\n",
        "\n",
        "    rutas_unicas = []\n",
        "    for ruta in rutas[fin]:\n",
        "        if ruta not in rutas_unicas:\n",
        "            rutas_unicas.append(ruta)\n",
        "\n",
        "    return distancias[fin], rutas_unicas\n",
        "grafo = {\n",
        "    'A': {'B': 1, 'C': 4},\n",
        "    'B': {'A': 1, 'C': 2, 'D': 5},\n",
        "    'C': {'A': 4, 'B': 2, 'D': 1},\n",
        "    'D': {'B': 5, 'C': 1}\n",
        "}\n",
        "\n",
        "peso_total, caminos = dijkstra_con_rutas(grafo, 'A', 'D')\n",
        "print(f\"Peso total mínimo: {peso_total}\")\n",
        "print(\"Rutas óptimas:\")\n",
        "for camino in caminos:\n",
        "    print(\" -> \".join(camino))"
      ],
      "metadata": {
        "colab": {
          "base_uri": "https://localhost:8080/"
        },
        "id": "h7Fpnysxxs49",
        "outputId": "5b95bdb9-4301-4efb-c7dd-56463ac32d42"
      },
      "execution_count": null,
      "outputs": [
        {
          "output_type": "stream",
          "name": "stdout",
          "text": [
            "Peso total mínimo: 4\n",
            "Rutas óptimas:\n",
            "A -> B -> C -> D\n"
          ]
        }
      ]
    },
    {
      "cell_type": "code",
      "source": [
        "import networkx as nx\n",
        "import matplotlib.pyplot as plt\n",
        "\n",
        "def dijkstra_grafico(grafo, inicio, fin):\n",
        "    G = nx.Graph()\n",
        "    for nodo in grafo:\n",
        "        for vecino, peso in grafo[nodo].items():\n",
        "            G.add_edge(nodo, vecino, weight=peso)\n",
        "\n",
        "    camino_mas_corto = nx.shortest_path(G, inicio, fin, weight='weight')\n",
        "    distancia = nx.shortest_path_length(G, inicio, fin, weight='weight')\n",
        "\n",
        "    pos = nx.spring_layout(G)\n",
        "    plt.figure(figsize=(10, 6))\n",
        "\n",
        "    nx.draw_networkx_nodes(G, pos, node_color='lightblue', node_size=500)\n",
        "    nx.draw_networkx_labels(G, pos)\n",
        "\n",
        "    edges_camino = [(camino_mas_corto[i], camino_mas_corto[i+1]) for i in range(len(camino_mas_corto)-1)]\n",
        "    nx.draw_networkx_edges(G, pos, edgelist=edges_camino, edge_color='red', width=2)\n",
        "\n",
        "    otras_edges = [edge for edge in G.edges() if edge not in edges_camino]\n",
        "    nx.draw_networkx_edges(G, pos, edgelist=otras_edges, edge_color='gray', alpha=0.5)\n",
        "\n",
        "    edge_labels = nx.get_edge_attributes(G, 'weight')\n",
        "    nx.draw_networkx_edge_labels(G, pos, edge_labels=edge_labels)\n",
        "\n",
        "    plt.title(f'Camino más corto de {inicio} a {fin}\\nDistancia total: {distancia}')\n",
        "    plt.axis('off')\n",
        "    plt.show()\n",
        "\n",
        "grafo = {\n",
        "    'A': {'B': 1, 'C': 4},\n",
        "    'B': {'A': 1, 'C': 2, 'D': 5},\n",
        "    'C': {'A': 4, 'B': 2, 'D': 1},\n",
        "    'D': {'B': 5, 'C': 1}\n",
        "}\n",
        "dijkstra_grafico(grafo, 'A', 'D')"
      ],
      "metadata": {
        "id": "wFb6dwPxEngn",
        "outputId": "d32431ca-d49e-46d5-a458-7812c442fe59",
        "colab": {
          "base_uri": "https://localhost:8080/",
          "height": 542
        }
      },
      "execution_count": null,
      "outputs": [
        {
          "output_type": "display_data",
          "data": {
            "text/plain": [
              "<Figure size 1000x600 with 1 Axes>"
            ],
            "image/png": "[encoded data removed]"
          },
          "metadata": {}
        }
      ]
    }
  ]
}
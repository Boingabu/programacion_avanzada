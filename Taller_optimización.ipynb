{
  "nbformat": 4,
  "nbformat_minor": 0,
  "metadata": {
    "colab": {
      "provenance": [],
      "authorship_tag": "ABX9TyO17ufYIoaYxVeW16+Je5O9",
      "include_colab_link": true
    },
    "kernelspec": {
      "name": "python3",
      "display_name": "Python 3"
    },
    "language_info": {
      "name": "python"
    }
  },
  "cells": [
    {
      "cell_type": "markdown",
      "metadata": {
        "id": "view-in-github",
        "colab_type": "text"
      },
      "source": [
        "<a href=\"https://colab.research.google.com/github/Boingabu/programacion_avanzada/blob/main/Taller_optimizaci%C3%B3n.ipynb\" target=\"_parent\"><img src=\"https://colab.research.google.com/assets/colab-badge.svg\" alt=\"Open In Colab\"/></a>"
      ]
    },
    {
      "cell_type": "markdown",
      "source": [
        "problema #1"
      ],
      "metadata": {
        "id": "u46Dx9X4sD3a"
      }
    },
    {
      "cell_type": "code",
      "execution_count": null,
      "metadata": {
        "colab": {
          "base_uri": "https://localhost:8080/"
        },
        "id": "7IjBFP1usCEW",
        "outputId": "33d3810c-4a9d-412a-a22f-76f6c4f4aaff"
      },
      "outputs": [
        {
          "output_type": "stream",
          "name": "stdout",
          "text": [
            "Caso de Prueba 1\n",
            "Objetos seleccionados: ['Objeto 1', 'Objeto 2']\n",
            "Valor total: 7\n",
            "\n",
            "Caso de Prueba 2\n",
            "Objetos seleccionados: ['Objeto 2', 'Objeto 3']\n",
            "Valor total: 220\n",
            "\n",
            "Caso de Prueba 3\n",
            "Objetos seleccionados: ['Objeto 1', 'Objeto 3', 'Objeto 4']\n",
            "Valor total: 5500\n",
            "\n",
            "Caso de Prueba 4\n",
            "Objetos seleccionados: ['Objeto 1', 'Objeto 3', 'Objeto 4', 'Objeto 5']\n",
            "Valor total: 26\n",
            "\n",
            "Caso de Prueba 5\n",
            "Objetos seleccionados: ['Objeto 1', 'Objeto 3']\n",
            "Valor total: 40\n",
            "\n"
          ]
        }
      ],
      "source": [
        "def mochila(capacidad, pesos, valores, n):\n",
        "    # Creamos una tabla para almacenar los valores máximos\n",
        "    K = [[0 for _ in range(capacidad + 1)] for _ in range(n + 1)]\n",
        "\n",
        "    # Construimos la tabla K[][] de abajo hacia arriba\n",
        "    for i in range(n + 1):\n",
        "        for w in range(capacidad + 1):\n",
        "            if i == 0 or w == 0:\n",
        "                K[i][w] = 0\n",
        "            elif pesos[i-1] <= w:\n",
        "                K[i][w] = max(valores[i-1] + K[i-1][w-pesos[i-1]], K[i-1][w])\n",
        "            else:\n",
        "                K[i][w] = K[i-1][w]\n",
        "\n",
        "    # Reconstruimos la solución para saber qué objetos se seleccionaron\n",
        "    res = K[n][capacidad]\n",
        "    w = capacidad\n",
        "    objetos_seleccionados = []\n",
        "\n",
        "    for i in range(n, 0, -1):\n",
        "        if res <= 0:\n",
        "            break\n",
        "        if res == K[i-1][w]:\n",
        "            continue\n",
        "        else:\n",
        "            objetos_seleccionados.append(i)\n",
        "            res -= valores[i-1]\n",
        "            w -= pesos[i-1]\n",
        "\n",
        "    return K[n][capacidad], sorted(objetos_seleccionados)\n",
        "\n",
        "# Casos de prueba\n",
        "casos = [\n",
        "    {\"pesos\": [2, 3, 4, 5], \"valores\": [3, 4, 5, 6], \"capacidad\": 5},\n",
        "    {\"pesos\": [10, 20, 30], \"valores\": [60, 100, 120], \"capacidad\": 50},\n",
        "    {\"pesos\": [1, 4, 3, 1], \"valores\": [1500, 3000, 2000, 2000], \"capacidad\": 5},\n",
        "    {\"pesos\": [2, 3, 4, 5, 9], \"valores\": [3, 4, 5, 8, 10], \"capacidad\": 20},\n",
        "    {\"pesos\": [1, 2, 3, 4], \"valores\": [10, 20, 30, 40], \"capacidad\": 4}\n",
        "]\n",
        "\n",
        "for i, caso in enumerate(casos, 1):\n",
        "    valor, objetos = mochila(caso[\"capacidad\"], caso[\"pesos\"], caso[\"valores\"], len(caso[\"pesos\"]))\n",
        "    print(f\"Caso de Prueba {i}\")\n",
        "    print(f\"Objetos seleccionados: {[f'Objeto {o}' for o in objetos]}\")\n",
        "    print(f\"Valor total: {valor}\\n\")"
      ]
    },
    {
      "cell_type": "code",
      "source": [
        "import heapq\n",
        "from collections import defaultdict\n",
        "\n",
        "def dijkstra_con_rutas(grafo, inicio, fin):\n",
        "    # Diccionario para almacenar las distancias mínimas\n",
        "    distancias = {nodo: float('inf') for nodo in grafo}\n",
        "    distancias[inicio] = 0\n",
        "\n",
        "    # Diccionario para almacenar el número de arcos\n",
        "    arcos = {nodo: float('inf') for nodo in grafo}\n",
        "    arcos[inicio] = 0\n",
        "\n",
        "    # Diccionario para almacenar las rutas\n",
        "    rutas = defaultdict(list)\n",
        "    rutas[inicio] = [[inicio]]\n",
        "\n",
        "    # Cola de prioridad\n",
        "    cola = [(0, 0, inicio)]\n",
        "\n",
        "    while cola:\n",
        "        dist_actual, arcos_actual, nodo_actual = heapq.heappop(cola)\n",
        "\n",
        "        if nodo_actual == fin:\n",
        "            continue\n",
        "\n",
        "        for vecino, peso in grafo[nodo_actual].items():\n",
        "            distancia = dist_actual + peso\n",
        "            num_arcos = arcos_actual + 1\n",
        "\n",
        "            # Si encontramos un camino mejor\n",
        "            if distancia < distancias[vecino]:\n",
        "                distancias[vecino] = distancia\n",
        "                arcos[vecino] = num_arcos\n",
        "                rutas[vecino] = [ruta + [vecino] for ruta in rutas[nodo_actual]]\n",
        "                heapq.heappush(cola, (distancia, num_arcos, vecino))\n",
        "\n",
        "            # Si encontramos un camino con la misma distancia pero menos arcos\n",
        "            elif distancia == distancias[vecino] and num_arcos < arcos[vecino]:\n",
        "                arcos[vecino] = num_arcos\n",
        "                rutas[vecino] = [ruta + [vecino] for ruta in rutas[nodo_actual]]\n",
        "                heapq.heappush(cola, (distancia, num_arcos, vecino))\n",
        "\n",
        "            # Si encontramos un camino con la misma distancia y mismos arcos\n",
        "            elif distancia == distancias[vecino] and num_arcos == arcos[vecino]:\n",
        "                rutas[vecino].extend([ruta + [vecino] for ruta in rutas[nodo_actual]])\n",
        "\n",
        "    # Eliminamos rutas duplicadas\n",
        "    rutas_unicas = []\n",
        "    for ruta in rutas[fin]:\n",
        "        if ruta not in rutas_unicas:\n",
        "            rutas_unicas.append(ruta)\n",
        "\n",
        "    return distancias[fin], rutas_unicas\n",
        "\n",
        "# Ejemplo de uso\n",
        "grafo = {\n",
        "    'A': {'B': 1, 'C': 4},\n",
        "    'B': {'A': 1, 'C': 2, 'D': 5},\n",
        "    'C': {'A': 4, 'B': 2, 'D': 1},\n",
        "    'D': {'B': 5, 'C': 1}\n",
        "}\n",
        "\n",
        "peso_total, caminos = dijkstra_con_rutas(grafo, 'A', 'D')\n",
        "print(f\"Peso total mínimo: {peso_total}\")\n",
        "print(\"Rutas óptimas:\")\n",
        "for camino in caminos:\n",
        "    print(\" -> \".join(camino))"
      ],
      "metadata": {
        "colab": {
          "base_uri": "https://localhost:8080/"
        },
        "id": "h7Fpnysxxs49",
        "outputId": "7b07942d-b1b6-4887-a687-657754c729f3"
      },
      "execution_count": null,
      "outputs": [
        {
          "output_type": "stream",
          "name": "stdout",
          "text": [
            "Peso total mínimo: 4\n",
            "Rutas óptimas:\n",
            "A -> B -> C -> D\n"
          ]
        }
      ]
    }
  ]
}